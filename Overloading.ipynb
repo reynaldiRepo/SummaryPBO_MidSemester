{
 "cells": [
  {
   "attachments": {},
   "cell_type": "markdown",
   "metadata": {},
   "source": [
    "## Overloading Method\n",
    "\n",
    "<img src=\"https://blogloi.com/wp-content/uploads/2015/10/ham-overriding-va-overloading-trong-oop.jpg\" alt=\"OverloadingVSOverridding\"> <br>\n",
    "Dengan overloading sebuah method pada class bisa di definisikan berdasarkan jumlah parameter yang  Ataupun fungsi yang diberikan. Dengan konsep method sepert ini dalam pembangunan sebuah method pada class harus diperhatikan deklarasi parameter dan kondisi dibawahnya dimana method seperti apa yang harus dilakukan bila jumlah parameter yang diberikan berjumlah sekian."
   ]
  },
  {
   "cell_type": "code",
   "execution_count": 11,
   "metadata": {},
   "outputs": [
    {
     "name": "stdout",
     "output_type": "stream",
     "text": [
      "dengan satu parameter\n",
      "Reynaldi\n",
      "dengan dua parameter\n",
      "Joko Driyono\n"
     ]
    }
   ],
   "source": [
    "class Nama:\n",
    "    def __init__(self,firstname = None, lastname = None):\n",
    "        self.firstname=firstname\n",
    "        self.lastname=lastname\n",
    "    def namalengkap(self):\n",
    "        if self.lastname == None :\n",
    "            print (self.firstname)\n",
    "        else :\n",
    "            print (self.firstname+' '+self.lastname)\n",
    "\n",
    "#Dengan satu parameter\n",
    "print('dengan satu parameter')\n",
    "Reynaldi = Nama('Reynaldi')\n",
    "Reynaldi.namalengkap()\n",
    "\n",
    "#Dengan dua Parameter\n",
    "print('dengan dua parameter')\n",
    "JokoDriyono = Nama('Joko','Driyono')\n",
    "JokoDriyono.namalengkap()"
   ]
  },
  {
   "attachments": {},
   "cell_type": "markdown",
   "metadata": {},
   "source": [
    "###  Overloading Operator / Magic Operator\n",
    "\n",
    "Dalam pemograman terdapat banyak operator, salah satunya \"+\" dimana bisa menambahkan int dengan int ataupun str dengan str. namun pada OOP operator \"+\" tidak bisa digunakan secara langsung dalam menjumlah Objek dengan Objek, hal ini bisa disiasati dengan memberi method Khusus pada Class dari Objek tersebut. Method yang digunakan disebut <b>Overloading Operator</b> dengan method ini memungkinkan Oprasi antar object menggunakan Operator\n",
    "\n",
    "Macam - macam Overloading Operator :\n",
    "\n",
    " <img src=\"http://1.bp.blogspot.com/-FnIuZ0OPYk8/VcJSm4w254I/AAAAAAAAIpA/Y6_3b2r53TA/s1600/operator_overloading.PNG\" alt=\"MagicOperator\">"
   ]
  },
  {
   "cell_type": "code",
   "execution_count": 10,
   "metadata": {},
   "outputs": [
    {
     "name": "stdout",
     "output_type": "stream",
     "text": [
      "9 + 16i\n",
      "9 + 16i\n",
      "-1 + -4i\n",
      "-40 + 70i\n"
     ]
    }
   ],
   "source": [
    "#contoh Penggunaan Overloading Operator\n",
    "class Bilangan_Komplek : \n",
    "    def __init__(self,a,b):\n",
    "        self.real=a\n",
    "        self.im=b\n",
    "\n",
    "    def __str__ (self):\n",
    "        return str(self.real) + ' + ' + str(self.im) + 'i'\n",
    "    \n",
    "    def __add__ (self,temp):\n",
    "        a=self.real + temp.real\n",
    "        b=self.im + temp.im\n",
    "        return Bilangan_Komplek(a,b)\n",
    "\n",
    "\n",
    "    def __sub__ (self,temp):\n",
    "        a=self.real - temp.real\n",
    "        b=self.im - temp.im\n",
    "        return Bilangan_Komplek(a,b)\n",
    "\n",
    "    \n",
    "    def __mul__(self,temp):\n",
    "        a=self.real * temp.real\n",
    "        a1=self.real * temp.im\n",
    "        b=self.im * temp.real\n",
    "        b1=(self.im * temp.im)*-1\n",
    "        hasil1 = a + (b1)\n",
    "        hasil2 = a1 + b\n",
    "        return Bilangan_Komplek(hasil1,hasil2)\n",
    "    \n",
    "data1 = Bilangan_Komplek(4,6)\n",
    "data2 = Bilangan_Komplek(5,10)\n",
    "print (data1 + data2)\n",
    "print (data1.__add__(data2))\n",
    "print (data1 - data2)\n",
    "print (data1 * data2)\n",
    "\n",
    "\n"
   ]
  },
  {
   "cell_type": "code",
   "execution_count": 18,
   "metadata": {},
   "outputs": [
    {
     "name": "stdout",
     "output_type": "stream",
     "text": [
      "1 / 2\n",
      "1 / 2\n",
      "10 / 8\n",
      "3 / 8\n"
     ]
    }
   ],
   "source": [
    "class fraction:\n",
    "    def __init__(self, pembilang, penyebut):\n",
    "        self.pembilang=pembilang\n",
    "        self.penyebut=penyebut\n",
    "    def show(self):\n",
    "        print (self.pembilang,'/',self.penyebut)\n",
    "    def __str__(self):\n",
    "        pembilang,penyebut = str(self.pembilang),str(self.penyebut)\n",
    "        return (pembilang + ' / ' +penyebut)\n",
    "    def __add__(self,temp):\n",
    "        pembilang = (self.pembilang * temp.penyebut) + (self.penyebut * temp.pembilang)\n",
    "        penyebut = self.penyebut * temp.penyebut\n",
    "        return (fraction(pembilang,penyebut))\n",
    "    def __mul__(self,temp):\n",
    "        pembilang = (self.pembilang * temp.pembilang)\n",
    "        penyebut = self.penyebut * temp.penyebut\n",
    "        return (fraction(pembilang,penyebut))\n",
    "        \n",
    "frac1 = fraction(1,2)\n",
    "frac2 = fraction(3,4)\n",
    "frac1.show()\n",
    "print(frac1)\n",
    "print (frac1 + frac2)\n",
    "print (frac1 * frac2)"
   ]
  },
  {
   "cell_type": "code",
   "execution_count": 33,
   "metadata": {},
   "outputs": [
    {
     "name": "stdout",
     "output_type": "stream",
     "text": [
      "(0,0)\n",
      "(-9,-8)\n",
      "72.5\n"
     ]
    }
   ],
   "source": [
    "class point:\n",
    "    def __init__(self, x=0, y=0):\n",
    "        self.x=x\n",
    "        self.y=y\n",
    "    def __str__(self):\n",
    "        return ('('+str(self.x)+','+str(self.y)+')')\n",
    "    def __add__(self,temp):\n",
    "        x = self.x - temp.y\n",
    "        y = self.y - temp.x\n",
    "        return (point(x,y))\n",
    "    def __sub__(self,temp):\n",
    "        dist=(((temp.x - self.x)**2) + ((temp.y - self.y)**2))**1/2\n",
    "        return (dist)\n",
    "point1 = point()\n",
    "point2 = point(8,9)\n",
    "print(point1)\n",
    "print(point1 + point2)\n",
    "print(point1 - point2)\n"
   ]
  },
  {
   "cell_type": "code",
   "execution_count": null,
   "metadata": {},
   "outputs": [],
   "source": []
  }
 ],
 "metadata": {
  "kernelspec": {
   "display_name": "Python 3",
   "language": "python",
   "name": "python3"
  },
  "language_info": {
   "codemirror_mode": {
    "name": "ipython",
    "version": 3
   },
   "file_extension": ".py",
   "mimetype": "text/x-python",
   "name": "python",
   "nbconvert_exporter": "python",
   "pygments_lexer": "ipython3",
   "version": "3.6.5"
  }
 },
 "nbformat": 4,
 "nbformat_minor": 2
}
