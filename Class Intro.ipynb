{
 "cells": [
  {
   "cell_type": "markdown",
   "metadata": {},
   "source": [
    "## OOP (Object Oriented Programming) \n",
    "\n",
    "adalah suatu metode pemrograman yang berorientasi kepada objek. Tujuan dari OOP diciptakan adalah untuk mempermudah pengembangan program dengan cara mengikuti model dari cetak biru yang dibuat. Jadi setiap bagian dari suatu permasalahan adalah objek, objek itu sendiri merupakan gabungan dari beberapa objek yang lebih kecil lagi. contoh Mobil, Mobil adalah sebuah objek. Pesawat itu sendiri terbentuk dari beberapa objek yang lebih kecil lagi seperti mesin, roda, Body, kursi, dll. Mobik sebagai objek yang terbentuk dari objek-objek yang lebih kecil saling berhubungan, berinteraksi, berkomunikasi dan saling mengirim pesan kepada objek-objek yang lainnya. Begitu juga dengan program, sebuah objek yang besar dibentuk dari beberapa objek yang lebih kecil, objek-objek itu saling berkomunikasi, dan saling berkirim pesan kepada objek yang lain.\n",
    "\n",
    "Dalam Python Terdapat beberapa point - point penting, antara lain :\n",
    "- Class\n",
    "- Object\n",
    "- Inheritance\n",
    "- Polymorphisme\n",
    "- Overloading\n",
    "- Encaplsulation\n",
    "    "
   ]
  },
  {
   "cell_type": "markdown",
   "metadata": {},
   "source": [
    "### Class \n",
    "\n",
    "Class merupakan BluePrint / Cetak Biru dalam pembuatan sebuah object\n",
    "##### didalam Class terdapat Beberapa hal yang harus diketahui, antara Lain :\n",
    "- Constructor\n",
    "    Constructor adalah Property - property dalam class tersebut untuk membangun sebuah object\n",
    "    dalam pembangunan constructor pada lumrahnya dilakukan pada method __init__(), namun tetap bisa dilakukan deklarasi\n",
    "    constructor pada method lainnya. Deklarasi constructor diDeklarasikan dengan memberikan syntax \"self.namaProperty\", yang\n",
    "    mempunyai arti self adalah milik dari class itu sendiri\n",
    "- Method\n",
    "    Method adalah fungsi atau metode didalam class yang mengolah Property ataupun parameter yang dibutuhkan dalam method\n",
    "\n"
   ]
  },
  {
   "cell_type": "code",
   "execution_count": 6,
   "metadata": {},
   "outputs": [],
   "source": [
    "#contoh class\n",
    "class persegi:\n",
    "    def __init__(self,s): #Constructor\n",
    "        self.sisi=s\n",
    "    def DispSisi (self): #Method\n",
    "        print('sisi = ', self.sisi)\n",
    "    def Luas(self): #Method\n",
    "        print('luas = ', self.sisi**2)"
   ]
  },
  {
   "cell_type": "markdown",
   "metadata": {},
   "source": [
    "Cara Membuat Object : \n",
    "Inisialisasi object dengan menggunakan Variable, Dan isi variable tersebut dengan Class yang dituju\n",
    "##### varObj = Class(parameter)\n",
    "Dibawah beberapa contoh dari class dan object yang dibuat"
   ]
  },
  {
   "cell_type": "code",
   "execution_count": 7,
   "metadata": {},
   "outputs": [
    {
     "name": "stdout",
     "output_type": "stream",
     "text": [
      "sisi =  4\n",
      "luas =  16\n"
     ]
    }
   ],
   "source": [
    "#main program\n",
    "#initiate class\n",
    "a=persegi(4)\n",
    "a.DispSisi()\n",
    "a.Luas()"
   ]
  },
  {
   "cell_type": "code",
   "execution_count": 10,
   "metadata": {},
   "outputs": [],
   "source": [
    "#contoh class kubus\n",
    "class kubus:\n",
    "    def __init__(self,s):\n",
    "        self.sisi=s\n",
    "    def DispSisi (self):\n",
    "        print('sisi = ', self.sisi)\n",
    "    def LuasSisi(self):\n",
    "        print('luas = ', self.sisi**2)\n",
    "    def LuasPermukaan(self):\n",
    "        print('luas permukaan = ', self.sisi**2*6)\n",
    "    def volume(self):\n",
    "        print('volume = ', self.sisi**3)"
   ]
  },
  {
   "cell_type": "code",
   "execution_count": 11,
   "metadata": {},
   "outputs": [
    {
     "name": "stdout",
     "output_type": "stream",
     "text": [
      "sisi =  5\n",
      "luas =  25\n",
      "luas permukaan =  150\n",
      "volume =  125\n"
     ]
    }
   ],
   "source": [
    "#main program class kubus \n",
    "kubus=kubus(5)\n",
    "kubus.DispSisi()\n",
    "kubus.LuasSisi()\n",
    "kubus.LuasPermukaan()\n",
    "kubus.volume()\n"
   ]
  },
  {
   "cell_type": "code",
   "execution_count": 15,
   "metadata": {},
   "outputs": [],
   "source": [
    "class mahasiswa:\n",
    "    def __init__(self,Npm,Nama,Ipk):\n",
    "        self.Npm = Npm\n",
    "        self.Nama = Nama\n",
    "        self.Ipk = Ipk\n",
    "    def DispMHS(self):\n",
    "        print (\"- NPM = \",self.Npm,\"\\n- NAMA = \", self.Nama, \"\\n- Ipk = \",self.Ipk)\n",
    "    def predikat(self):\n",
    "        ipk = self.Ipk\n",
    "        if ipk >= 3.5 :\n",
    "            print ('ipk = ',ipk, 'Cumloude')\n",
    "        elif ipk > 3 and ipk < 3.5:\n",
    "            print ('ipk = ',ipk, 'Sangat memuaskan')\n",
    "        elif ipk > 2.5 and ipk <= 3 :\n",
    "            print ('ipk = ',ipk, 'memuaskan')\n",
    "        else : \n",
    "            print ('ipk = ',ipk,'cukup')\n",
    "    \n",
    "    "
   ]
  },
  {
   "cell_type": "code",
   "execution_count": 18,
   "metadata": {},
   "outputs": [
    {
     "name": "stdout",
     "output_type": "stream",
     "text": [
      "- NPM =  170411100049 \n",
      "- NAMA =  Reynaldi \n",
      "- Ipk =  3.8\n",
      "ipk =  3.8 Cumloude\n"
     ]
    }
   ],
   "source": [
    "#main Program MAHASISWA\n",
    "mhs=mahasiswa(\"170411100049\",'Reynaldi',3.8)\n",
    "mhs.DispMHS()\n",
    "mhs.predikat()"
   ]
  },
  {
   "cell_type": "code",
   "execution_count": 64,
   "metadata": {},
   "outputs": [],
   "source": [
    "class Nasabah:\n",
    "    def __init__(self,NoNasabah,Nama,NoRek,saldo):\n",
    "        self.NoNasabah = NoNasabah\n",
    "        self.Nama = Nama\n",
    "        self.Norek = NoRek\n",
    "        self.saldo = saldo\n",
    "    \n",
    "    def __str__(self):\n",
    "        a='- Nomor Nasabah = '+ self.NoNasabah + '\\n- Nama = ' + self.Nama + '\\n- No rekening = ' + self.Norek + '\\n- Saldo = ' + str(self.saldo)\n",
    "        return (a)\n",
    "\n",
    "class rekening:\n",
    "    def __init__(self,NoRek,saldo):\n",
    "        self.Norek = NoRek\n",
    "        self.saldo = saldo\n",
    "    def ambilUang(self,jumlah):\n",
    "        self.saldo -= jumlah\n",
    "        print('Anda mengambil', jumlah)\n",
    "        print(\"saldo anda = \",self.saldo)\n",
    "    def setorUang(self,jumlah):\n",
    "        self.saldo += jumlah\n",
    "        print('Anda memasukan', jumlah)\n",
    "        print(\"saldo anda = \",self.saldo)\n",
    "    def cekSaldo(self):\n",
    "        print('Sisa saldo = ',self.saldo)\n"
   ]
  },
  {
   "cell_type": "code",
   "execution_count": 65,
   "metadata": {},
   "outputs": [
    {
     "name": "stdout",
     "output_type": "stream",
     "text": [
      "- Nomor Nasabah = 223\n",
      "- Nama = Reynaldi\n",
      "- No rekening = 121973341987\n",
      "- Saldo = 1000000000\n",
      "\n",
      "Anda mengambil 100000\n",
      "saldo anda =  999900000\n",
      "Anda memasukan 50000\n",
      "saldo anda =  999950000\n",
      "Sisa saldo =  999950000\n"
     ]
    }
   ],
   "source": [
    "Nasabah = Nasabah ('223','Reynaldi','121973341987',1000000000)\n",
    "print (Nasabah)\n",
    "print('')\n",
    "NoRek = Nasabah.Norek\n",
    "saldo= Nasabah.saldo\n",
    "rekening = rekening(NoRek,saldo)\n",
    "rekening.ambilUang(100000)\n",
    "rekening.setorUang(50000)\n",
    "rekening.cekSaldo()\n"
   ]
  },
  {
   "cell_type": "code",
   "execution_count": null,
   "metadata": {},
   "outputs": [],
   "source": []
  }
 ],
 "metadata": {
  "kernelspec": {
   "display_name": "Python 3",
   "language": "python",
   "name": "python3"
  },
  "language_info": {
   "codemirror_mode": {
    "name": "ipython",
    "version": 3
   },
   "file_extension": ".py",
   "mimetype": "text/x-python",
   "name": "python",
   "nbconvert_exporter": "python",
   "pygments_lexer": "ipython3",
   "version": "3.6.5"
  }
 },
 "nbformat": 4,
 "nbformat_minor": 2
}
