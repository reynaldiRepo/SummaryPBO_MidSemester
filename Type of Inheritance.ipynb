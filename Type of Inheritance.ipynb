{
 "cells": [
  {
   "cell_type": "markdown",
   "metadata": {},
   "source": [
    "# TYPE of Inheritance\n",
    "\n",
    "- Default (menggunakan semua property dan method dari oarent class)\n",
    "- Overridding (Mereplace / menggantikan beberapa property atau method di subclass dari parent class)\n",
    "- SuperClass(Penambahan Property dari Parent Class di Sub Class)\n",
    "- Multiple Inheritance (Subclass yang memiliki dua atau lebih Parent Class)"
   ]
  },
  {
   "cell_type": "markdown",
   "metadata": {},
   "source": [
    "## Default inheritance\n",
    "\n",
    "Default inheritance dimana ada hubungan dari parent class dan child class, dengan kondisi child class mengambil semua method dan atribut yang ada pada parent class"
   ]
  },
  {
   "cell_type": "code",
   "execution_count": 1,
   "metadata": {},
   "outputs": [
    {
     "name": "stdout",
     "output_type": "stream",
     "text": [
      "-jumlah sisi = 4\n",
      "-Bentuk = Persegi\n",
      "Persegi memiliki 4 sisi sama panjang\n"
     ]
    }
   ],
   "source": [
    "#Contoh Default Inheritance\n",
    "#Overridding Class\n",
    "class persegi:\n",
    "    def __init__(self,sisi='4',bentuk='Persegi'):\n",
    "        self.sisi=sisi\n",
    "        self.bentuk=bentuk\n",
    "    def Display(self):\n",
    "        print ('-jumlah sisi = '+self.sisi+'\\n-Bentuk = '+self.bentuk)\n",
    "    def Deskripsi(self):\n",
    "        print('Persegi memiliki 4 sisi sama panjang')\n",
    "\n",
    "class SegiEmpat(persegi):\n",
    "    pass\n",
    "\n",
    "segi4 = SegiEmpat()\n",
    "segi4.Display()\n",
    "segi4.Deskripsi()"
   ]
  },
  {
   "cell_type": "markdown",
   "metadata": {},
   "source": [
    "### Overidding Class\n",
    "\n",
    "Typical Inheritance dimana subclass bisa me<i>repalace</i> Atribut dan method dari parent class, dengan syarat semua atribut yang ada di parent class harus ada pada child class, child class bisa memiliki tambahan atribut bagi dirinya sendiri"
   ]
  },
  {
   "cell_type": "code",
   "execution_count": null,
   "metadata": {},
   "outputs": [],
   "source": [
    "#Overridding Class\n",
    "class persegi:\n",
    "    def __init__(self,sisi='4',bentuk='Persegi'):\n",
    "        self.sisi=sisi\n",
    "        self.bentuk=bentuk\n",
    "    def Display(self):\n",
    "        print ('-jumlah sisi = '+self.sisi+'\\n-Bentuk = '+self.bentuk)\n",
    "    def Deskripsi(self):\n",
    "        print('Persegi memiliki 4 sisi sama panjang')\n",
    "           \n",
    "class persegiPanjang(persegi):\n",
    "    def __init__(self,sisi='4',bentuk='Persegi Panjang'):\n",
    "        self.sisi=sisi\n",
    "        self.bentuk=bentuk\n",
    "    def Deskripsi(self):\n",
    "        print('Persegi Panjang memiliki panjang dan lebar')\n",
    "\n",
    "class bujursangkar(persegi):\n",
    "    def __init__(self,sisi='4',bentuk='Bujur Sangkar'):\n",
    "        self.sisi=sisi\n",
    "        self.bentuk=bentuk\n",
    "    def Deskripsi(self):\n",
    "        print('Bujur sangkar memiliki Bentuk Seperti Ketupat')\n",
    "\n",
    "PERSEGI=persegi()\n",
    "PERSEGI.Display()\n",
    "PERSEGI.Deskripsi()\n",
    "print()\n",
    "psgpanjang=persegiPanjang()\n",
    "psgpanjang.Display()\n",
    "psgpanjang.Deskripsi()\n",
    "print()\n",
    "bungkar=bujursangkar()\n",
    "bungkar.Display()\n",
    "bungkar.Deskripsi()\n",
    "              \n",
    "              "
   ]
  },
  {
   "cell_type": "markdown",
   "metadata": {},
   "source": [
    "### Super Function\n",
    "\n",
    "Super Function digunakan untuk mengambil item - item unik Atribut ataupun Method dari parent class untuk child class.\n",
    "ada 2 cara penulisan Super Function.\n",
    "1. super(childclass,parameter_pada_method_Dari_parent).Method_pada_parent\n",
    "2. parentClass.methodParent(parameter)"
   ]
  },
  {
   "cell_type": "code",
   "execution_count": 2,
   "metadata": {},
   "outputs": [
    {
     "name": "stdout",
     "output_type": "stream",
     "text": [
      "first name =  Aldi\n",
      "lastname = Reynaldi\n",
      "Coding with Python\n",
      "\n",
      "first name =  Nur Latif\n",
      "lastname = Hillaludin\n",
      "Coding with Python\n",
      "\n",
      "To be Programer\n"
     ]
    }
   ],
   "source": [
    "#SuperFunc\n",
    "'''\n",
    "SUPER FUNC\n",
    "'''\n",
    "#with super() syntax\n",
    "class User :\n",
    "    def __init__(self, nama):\n",
    "        self.nama=nama\n",
    "    def printName(self):\n",
    "        print (\"first name = \",self.nama)\n",
    "\n",
    "class Programer(User):\n",
    "    def __init__(self,lastname,name):\n",
    "        self.lastname=lastname\n",
    "        User.__init__(self,name)\n",
    "        \n",
    "    def printLastname(self):\n",
    "        print (\"lastname = \"+ self.lastname)\n",
    "    def do(self):\n",
    "        print (\"Coding with Python\")\n",
    "class programer1(User):\n",
    "    pass\n",
    "    def Tobe(self):\n",
    "        print('To be Programer')\n",
    "\n",
    "rey = Programer('Reynaldi','Aldi')\n",
    "hillal = Programer('Hillaludin','Nur Latif')\n",
    "rey.printName()\n",
    "rey.printLastname()\n",
    "rey.do()\n",
    "print()\n",
    "hillal.printName()\n",
    "hillal.printLastname()\n",
    "hillal.do()\n",
    "rey1=programer1('aldi')\n",
    "print()\n",
    "rey1.Tobe()"
   ]
  },
  {
   "cell_type": "code",
   "execution_count": null,
   "metadata": {},
   "outputs": [],
   "source": [
    "import time\n",
    "class orang:\n",
    "    def __init__(self,nama):\n",
    "        self.nama=nama\n",
    "    def printNama(self):\n",
    "        print ('nama: ',self.nama)\n",
    "        \n",
    "class mahasiswa(orang):\n",
    "    def __init__(self,nim,nama):\n",
    "        orang.__init__(self,nama)\n",
    "        self.nim=nim\n",
    "        self.smester=0\n",
    "        \n",
    "    def smester(self):\n",
    "        tahun=time.strftime(\"%Y\");bulan=int(time.strftime(\"%m\"))\n",
    "        masuk=int(self.nim[0:2])\n",
    "        if int(bulan)>=8:\n",
    "            self.smester=(int(tahun[2:4])-int(masuk))*2+1\n",
    "        else:\n",
    "            self.smester=(int(tahun[2:4])-int(masuk))*2\n",
    "    def display_mhs(self):\n",
    "        mahasiswa.smester(self)\n",
    "        print ('| Nama : %22s' %(self.nama),'| NIM %1s: %s |'%(' ',self.nim),'\\n|%30s'%(\" \"),'| Smt  : %12s |'%(self.smester))\n",
    "        \n",
    "class pegawai(orang):\n",
    "    def __init__(self,nip,nama):\n",
    "        orang.__init__(self,nama)\n",
    "        self.nip=nip\n",
    "        \n",
    "    def display_pegawai(self):\n",
    "        print ('| Nama : %22s' %(self.nama),'| NIP %1s: %12s |'%(' ',self.nip))\n",
    "        \n",
    "class dosen(pegawai):\n",
    "    def __init__(self,nama,nip,nidn):\n",
    "        pegawai.__init__(self,nip,nama)\n",
    "        self.nidn=nidn\n",
    "    def display_dosen(self):\n",
    "        print ('| Nama : %22s' %(self.nama),'| NIP %1s: %12s |'%(' ',self.nip),'\\n|%30s'%(\" \"),'| NIDN : %12s |'%(self.nidn))\n",
    "        \n",
    "class karyawan(pegawai):\n",
    "    pass\n",
    "\n",
    "\n",
    "print('(PROFILE MAHASISWA)')\n",
    "mhs1=mahasiswa('170411100049','Reynaldi')\n",
    "mhs1.display_mhs()\n",
    "print('(PROFILE MAHASISWA)')\n",
    "mhs2=mahasiswa('170411100053','Nur Latif Hilaluddin')\n",
    "mhs2.display_mhs()\n",
    "print('(PROFILE KRYAWAN)')\n",
    "pegawai1=karyawan('021283','Joko Susilo')\n",
    "pegawai1.display_pegawai()\n",
    "print('(PROFILE DOSEN)')\n",
    "dosen1=dosen('Andy','111231','122321')\n",
    "dosen1.display_dosen()"
   ]
  },
  {
   "cell_type": "markdown",
   "metadata": {},
   "source": [
    "### Multiple Inheritance\n",
    "\n",
    "Multiple Inheritance adalah typical inheritance yang mana child class memiliki dua atau lebih parent class, dalam penggunaanya multiple inheritance membutuhkan <b>super functiion</b> untuk mengambil atribut dan method yang ada pada semua parent classnya."
   ]
  },
  {
   "cell_type": "code",
   "execution_count": null,
   "metadata": {},
   "outputs": [],
   "source": [
    "#Multiple Inheritance\n",
    "\n",
    "class person:\n",
    "    def __init__(self):\n",
    "        self.nama=input('Nama : ')\n",
    "    def display(self):\n",
    "        print ('- Nama : ' + self.nama)\n",
    "class marks:\n",
    "    def __init__(self):\n",
    "        self.nim=input('NIM : ')\n",
    "        self.math=(input('Nilai Matematika = '))\n",
    "        self.biology=(input('Nilai Biology = '))\n",
    "    def display(self):\n",
    "        print('- NIM : '+self.nim+'\\n- Nilai Biology : '+self.biology+'\\n- Nilai Matematika'+self.math)\n",
    "\n",
    "class student(person,marks):\n",
    "    \n",
    "    def __init__(self):\n",
    "        person.__init__(self)\n",
    "        marks.__init__(self)\n",
    "    def result(self):\n",
    "        person.display(self)\n",
    "        marks.display(self)\n",
    "\n",
    "stu1=student()\n",
    "stu2=student()\n",
    "stu1.result()\n",
    "stu2.result()"
   ]
  },
  {
   "cell_type": "code",
   "execution_count": null,
   "metadata": {},
   "outputs": [],
   "source": []
  }
 ],
 "metadata": {
  "kernelspec": {
   "display_name": "Python 3",
   "language": "python",
   "name": "python3"
  },
  "language_info": {
   "codemirror_mode": {
    "name": "ipython",
    "version": 3
   },
   "file_extension": ".py",
   "mimetype": "text/x-python",
   "name": "python",
   "nbconvert_exporter": "python",
   "pygments_lexer": "ipython3",
   "version": "3.6.5"
  }
 },
 "nbformat": 4,
 "nbformat_minor": 2
}
