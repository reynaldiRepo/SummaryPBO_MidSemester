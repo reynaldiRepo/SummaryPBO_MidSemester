{
 "cells": [
  {
   "attachments": {
    "image.png": {
     "image/png": "[encoded data removed]"
    }
   },
   "cell_type": "markdown",
   "metadata": {},
   "source": [
    "# Inheritance Class\n",
    "\n",
    "\n",
    "![image.png](attachment:image.png)\n",
    "\n",
    "\n",
    "Pengertian Inheritance (Pewarisan) Inheritance atau Pewarisan/Penurunan adalah konsep pemrograman dimana sebuah class dapat 'menurunkan' property dan method yang dimilikinya kepada class lain. Konsep inheritance digunakan untuk memanfaatkan fitur 'code reuse' untuk menghindari duplikasi kode program"
   ]
  },
  {
   "cell_type": "markdown",
   "metadata": {},
   "source": [
    "Dalam Membangun hubungan class yang inherit dapat dilakukan dengan cara :\n",
    "- ex\n",
    "    parentClassName :\n",
    "        method.....\n",
    "        method.....\n",
    "    subClassName(parentClassName):\n",
    "        method.....\n",
    "        method....."
   ]
  },
  {
   "cell_type": "markdown",
   "metadata": {},
   "source": [
    "## linier Inheritance\n",
    "\n",
    "Pewarisan dari satu parent Class langsung kepada satu sub Class."
   ]
  },
  {
   "cell_type": "code",
   "execution_count": 2,
   "metadata": {},
   "outputs": [
    {
     "name": "stdout",
     "output_type": "stream",
     "text": [
      "first name =  Aldi\n",
      "lastname = Reynaldi\n",
      "Coding with Python\n",
      "\n",
      "first name =  Nur Latif\n",
      "lastname = Hillaludin\n",
      "Coding with Python\n"
     ]
    }
   ],
   "source": [
    "class User :\n",
    "    def __init__(self, nama):\n",
    "        self.nama=nama\n",
    "    def printName(self):\n",
    "        print (\"first name = \",self.nama)\n",
    "\n",
    "class Programer(User):\n",
    "    def __init__(self,lastname,name):\n",
    "        self.lastname=lastname\n",
    "        super().__init__(name)\n",
    "        \n",
    "    def printLastname(self):\n",
    "        print (\"lastname = \"+ self.lastname)\n",
    "    def do(self):\n",
    "        print (\"Coding with Python\")\n",
    "\n",
    "rey = Programer('Reynaldi','Aldi')\n",
    "hillal = Programer('Hillaludin','Nur Latif')\n",
    "rey.printName()\n",
    "rey.printLastname()\n",
    "rey.do()\n",
    "print()\n",
    "hillal.printName()\n",
    "hillal.printLastname()\n",
    "hillal.do()"
   ]
  },
  {
   "cell_type": "markdown",
   "metadata": {},
   "source": [
    "### Multilevel Inheritance\n",
    "\n",
    "Multulavel Inheritance adalah kondisi dimana sub class bisa memiliki sub class lainnya"
   ]
  },
  {
   "cell_type": "code",
   "execution_count": null,
   "metadata": {},
   "outputs": [],
   "source": [
    "class User :\n",
    "    def __init__(self, nama):\n",
    "        self.nama=nama\n",
    "    def printName(self):\n",
    "        print (\"first name = \",self.nama)\n",
    "\n",
    "class Programer(User):\n",
    "    def __init__(self,lastname,name):\n",
    "        self.lastname=lastname\n",
    "        User.__init__(self,name)\n",
    "        \n",
    "    def printLastname(self):\n",
    "        print (\"lastname = \"+ self.lastname)\n",
    "    def do(self):\n",
    "        print (\"Coding with Python\")\n",
    "class programer1(User):\n",
    "    pass\n",
    "    def Tobe(self):\n",
    "        print('To be Programer')\n",
    "\n",
    "rey = Programer('Reynaldi','Aldi')\n",
    "hillal = Programer('Hillaludin','Nur Latif')\n",
    "rey.printName()\n",
    "rey.printLastname()\n",
    "rey.do()\n",
    "print()\n",
    "hillal.printName()\n",
    "hillal.printLastname()\n",
    "hillal.do()\n",
    "rey1=programer1('aldi')\n",
    "print()\n",
    "rey1.Tobe()"
   ]
  },
  {
   "cell_type": "markdown",
   "metadata": {},
   "source": [
    "\n",
    "        \n",
    "        "
   ]
  },
  {
   "cell_type": "markdown",
   "metadata": {},
   "source": [
    "### Heriarki Inheritance\n",
    "\n",
    "Kondisi dimana suatu parent class bisa memiliki dua atau lebih sub class"
   ]
  },
  {
   "cell_type": "code",
   "execution_count": null,
   "metadata": {},
   "outputs": [],
   "source": [
    "import time\n",
    "class orang:\n",
    "    def __init__(self,nama):\n",
    "        self.nama=nama\n",
    "    def printNama(self):\n",
    "        print ('nama: ',self.nama)\n",
    "        \n",
    "class mahasiswa(orang):\n",
    "    def __init__(self,nim,nama):\n",
    "        orang.__init__(self,nama)\n",
    "        self.nim=nim\n",
    "        self.smester=0\n",
    "        \n",
    "    def smester(self):\n",
    "        tahun=time.strftime(\"%Y\");bulan=int(time.strftime(\"%m\"))\n",
    "        masuk=int(self.nim[0:2])\n",
    "        if int(bulan)>=8:\n",
    "            self.smester=(int(tahun[2:4])-int(masuk))*2+1\n",
    "        else:\n",
    "            self.smester=(int(tahun[2:4])-int(masuk))*2\n",
    "    def display_mhs(self):\n",
    "        mahasiswa.smester(self)\n",
    "        print ('| Nama : %22s' %(self.nama),'| NIM %1s: %s |'%(' ',self.nim),'\\n|%30s'%(\" \"),'| Smt  : %12s |'%(self.smester))\n",
    "        \n",
    "class pegawai(orang):\n",
    "    def __init__(self,nip,nama):\n",
    "        orang.__init__(self,nama)\n",
    "        self.nip=nip\n",
    "        \n",
    "    def display_pegawai(self):\n",
    "        print ('| Nama : %22s' %(self.nama),'| NIP %1s: %12s |'%(' ',self.nip))\n",
    "        \n",
    "class dosen(pegawai):\n",
    "    def __init__(self,nama,nip,nidn):\n",
    "        pegawai.__init__(self,nip,nama)\n",
    "        self.nidn=nidn\n",
    "    def display_dosen(self):\n",
    "        print ('| Nama : %22s' %(self.nama),'| NIP %1s: %12s |'%(' ',self.nip),'\\n|%30s'%(\" \"),'| NIDN : %12s |'%(self.nidn))\n",
    "        \n",
    "class karyawan(pegawai):\n",
    "    pass\n",
    "\n",
    "\n",
    "print('(PROFILE MAHASISWA)')\n",
    "mhs1=mahasiswa('170411100049','Reynaldi')\n",
    "mhs1.display_mhs()\n",
    "print('(PROFILE MAHASISWA)')\n",
    "mhs2=mahasiswa('170411100053','Nur Latif Hilaluddin')\n",
    "mhs2.display_mhs()\n",
    "print('(PROFILE KRYAWAN)')\n",
    "pegawai1=karyawan('021283','Joko Susilo')\n",
    "pegawai1.display_pegawai()\n",
    "print('(PROFILE DOSEN)')\n",
    "dosen1=dosen('Andy','111231','122321')\n",
    "dosen1.display_dosen()"
   ]
  }
 ],
 "metadata": {
  "kernelspec": {
   "display_name": "Python 3",
   "language": "python",
   "name": "python3"
  },
  "language_info": {
   "codemirror_mode": {
    "name": "ipython",
    "version": 3
   },
   "file_extension": ".py",
   "mimetype": "text/x-python",
   "name": "python",
   "nbconvert_exporter": "python",
   "pygments_lexer": "ipython3",
   "version": "3.6.5"
  }
 },
 "nbformat": 4,
 "nbformat_minor": 2
}
