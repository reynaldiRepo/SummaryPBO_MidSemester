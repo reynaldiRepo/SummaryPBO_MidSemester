{
 "cells": [
  {
   "cell_type": "markdown",
   "metadata": {},
   "source": [
    "### Polymorphism & Abstract Class\n",
    "\n",
    "- Polymorphism sering dikaitkan dengan penggunaan lebih dari satu method dengan nama sama. Dimana 2 buah class yang berhubungan inherit ataupn tidak memliki nama method yang sama, dengan kondisi seperti itu dua atau object yang berbeda bisa diperlakukan oleh method yang sama namun memiliki hasil luaran yang sesuai dengan prilaku yang diberikan oleh method di masing - masing classnya\n",
    "\n",
    "- Abstract class adalah class yang mempunyai method yang tidak terdefinisikan, method tersebut akan terdefinisikan oleh subclassnya"
   ]
  },
  {
   "cell_type": "markdown",
   "metadata": {},
   "source": [
    "Dalam menggunakan konsep Polymorphism dapat digunakan beberapa metode, antara lain :\n",
    "- Ordinarry Method -> yaitu cara default dalam pembuatan object\n",
    "    ex : \n",
    "        obj1 = class1()\n",
    "        obj2 = class2()\n",
    "        obj1.methodX()\n",
    "        obj2.methodX()\n",
    "        \n",
    "- Menggunakan Method :\n",
    "    ex :\n",
    "        obj1 = class1()\n",
    "        obj2 = class2()\n",
    "        for i in (obj1,obj2):\n",
    "            i.methodX()\n",
    "\n",
    "- Menggunakan Fungsi :\n",
    "    ex :\n",
    "        obj1 = class1()\n",
    "        obj2 = class2()\n",
    "        def implementmethod(obj1,onj2):\n",
    "            obj1.methodX()\n",
    "            obj2.methodX()\n",
    "        implementmethod(obj1,obj2)"
   ]
  },
  {
   "cell_type": "code",
   "execution_count": 89,
   "metadata": {},
   "outputs": [
    {
     "name": "stdout",
     "output_type": "stream",
     "text": [
      "pelatih MU adalaha jose mourinho\n",
      "Stadion MU adalaha Old Traford\n",
      "pelatih Chelsea adalaha Mauricio Sarri\n",
      "Stadion Chelsea adalaha St Bridge\n",
      "pelatih MU adalaha jose mourinho\n",
      "Stadion MU adalaha Old Traford\n",
      "Kapten MU adalaha Paul Pogba\n",
      "pelatih Chelsea adalaha Mauricio Sarri\n",
      "Stadion Chelsea adalaha St Bridge\n",
      "Kapten Chelsea adalaha E. Hazard\n",
      "\n",
      "pelatih MU adalaha jose mourinho\n"
     ]
    }
   ],
   "source": [
    "#Contoh Polymorphism pada class yang tidak inherit\n",
    "class Mu():\n",
    "    def pelatih(self):\n",
    "        print ('pelatih MU adalaha jose mourinho')\n",
    "    def stadion(self):\n",
    "        print ('Stadion MU adalaha Old Traford')\n",
    "    def Kapten(self):\n",
    "        print ('Kapten MU adalaha Paul Pogba')\n",
    "\n",
    "class Chelsea():\n",
    "    def pelatih(self):\n",
    "        print ('pelatih Chelsea adalaha Mauricio Sarri')\n",
    "    def stadion(self):\n",
    "        print ('Stadion Chelsea adalaha St Bridge')\n",
    "    def Kapten(self):\n",
    "        print ('Kapten Chelsea adalaha E. Hazard')\n",
    "\n",
    "#Ordinary Method\n",
    "Fans1 = Mu()\n",
    "Fans1.pelatih()\n",
    "Fans1.stadion()\n",
    "Fans2 = Chelsea()\n",
    "Fans2.pelatih()\n",
    "Fans2.stadion()\n",
    "#method\n",
    "for i in (Fans1,Fans2):\n",
    "    i.pelatih()\n",
    "    i.stadion()\n",
    "    i.Kapten()\n",
    "print()\n",
    "#function\n",
    "def EPL(team):\n",
    "    team.pelatih()\n",
    "Manchester = Mu()\n",
    "EPL(Manchester)"
   ]
  },
  {
   "cell_type": "markdown",
   "metadata": {},
   "source": [
    "### Abstract Class\n",
    "\n",
    "Abstract class adalah class yang mempunyai method yang tidak terdefinisikan, method tersebut akan terdefinisikan oleh subclassnya, maksud dari pernyataan ini ialah parent Class memiliki method yang tidak memiliki isi perintah didalamnya, method abstrac ini bisa diDeklarasikan kedalam beberapa bentuk, antara lain :\n",
    "\n",
    "- ex 1 :\n",
    "    def namaMethod(parameter):\n",
    "        raise NotImplementedError('Subclass Must implement abstract Method')\n",
    "- ex 2 :\n",
    "    def namaMethod(parameter):\n",
    "        pass"
   ]
  },
  {
   "cell_type": "code",
   "execution_count": 3,
   "metadata": {},
   "outputs": [
    {
     "name": "stdout",
     "output_type": "stream",
     "text": [
      "-Nama : Aldi \n",
      "-Gaji : 162000000\n",
      "-Nama : Reynaldi \n",
      "-Gaji : 27000000\n",
      "\n",
      "-Nama : Aldi \n",
      "-Gaji : 162000000\n",
      "-Nama : Reynaldi \n",
      "-Gaji : 27000000\n"
     ]
    }
   ],
   "source": [
    "#Polymorphism pada class yang inherit diikuti dengan penggunaan abstract class\n",
    "\n",
    "class Pegawai :\n",
    "    def __init__(self,nama,NumGaji):\n",
    "        self.nama=nama\n",
    "        self.NumGaji=NumGaji\n",
    "    def gaji(self): # ini merupakan Method yang tidak terdefinisi yang menyebabkan class ini masuk pada abstract class\n",
    "        raise NotImplementedError('Subclass Must implement abstract Method')\n",
    "        #pass\n",
    "class Manajer(Pegawai):\n",
    "    def __init__(self,nama,NumGaji,tunjangan):\n",
    "        Pegawai.__init__(self,nama,NumGaji)\n",
    "        self.tunjangan=tunjangan\n",
    "    def gaji(self):\n",
    "        hasil = self.NumGaji+self.tunjangan\n",
    "        print('-Nama : %s \\n-Gaji : %d'%(self.nama,hasil))\n",
    "\n",
    "class Programer(Pegawai):\n",
    "    def __init__(self,nama,NumGaji,bonus):\n",
    "        Pegawai.__init__(self,nama,NumGaji)\n",
    "        self.bonus=bonus\n",
    "    def gaji(self):\n",
    "        hasil = self.NumGaji+self.bonus\n",
    "        print('-Nama : %s \\n-Gaji : %d'%(self.nama,hasil))\n",
    "\n",
    "#Ordinary Method\n",
    "Aldi = Manajer('Aldi',150000000,12000000)\n",
    "Aldi.gaji()\n",
    "Reynaldi = Programer('Reynaldi',25000000,2000000)\n",
    "Reynaldi.gaji()\n",
    "print()\n",
    "#function \n",
    "def cetak_gaji(mgr,prgmr):\n",
    "    mgr.gaji()\n",
    "    prgmr.gaji()\n",
    "\n",
    "Manajer1 = Manajer('Aldi',150000000,12000000)\n",
    "Programer1 = Programer('Reynaldi',25000000,2000000)\n",
    "cetak_gaji(Manajer1,Programer1)\n",
    "\n"
   ]
  }
 ],
 "metadata": {
  "kernelspec": {
   "display_name": "Python 3",
   "language": "python",
   "name": "python3"
  },
  "language_info": {
   "codemirror_mode": {
    "name": "ipython",
    "version": 3
   },
   "file_extension": ".py",
   "mimetype": "text/x-python",
   "name": "python",
   "nbconvert_exporter": "python",
   "pygments_lexer": "ipython3",
   "version": "3.6.5"
  }
 },
 "nbformat": 4,
 "nbformat_minor": 2
}
